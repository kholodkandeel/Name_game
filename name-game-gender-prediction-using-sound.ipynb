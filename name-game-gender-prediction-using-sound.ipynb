{
 "cells": [
  {
   "cell_type": "code",
   "execution_count": 1,
   "id": "60e0f96f",
   "metadata": {
    "execution": {
     "iopub.execute_input": "2022-04-01T12:57:13.075604Z",
     "iopub.status.busy": "2022-04-01T12:57:13.074356Z",
     "iopub.status.idle": "2022-04-01T12:57:33.982327Z",
     "shell.execute_reply": "2022-04-01T12:57:33.982901Z",
     "shell.execute_reply.started": "2022-04-01T12:55:52.227940Z"
    },
    "papermill": {
     "duration": 20.922994,
     "end_time": "2022-04-01T12:57:33.983195",
     "exception": false,
     "start_time": "2022-04-01T12:57:13.060201",
     "status": "completed"
    },
    "tags": []
   },
   "outputs": [
    {
     "name": "stdout",
     "output_type": "stream",
     "text": [
      "Collecting fuzzy\r\n",
      "  Downloading Fuzzy-1.2.2.tar.gz (14 kB)\r\n",
      "  Preparing metadata (setup.py) ... \u001b[?25l-\b \b\\\b \bdone\r\n",
      "\u001b[?25hBuilding wheels for collected packages: fuzzy\r\n",
      "  Building wheel for fuzzy (setup.py) ... \u001b[?25l-\b \b\\\b \b|\b \b/\b \b-\b \b\\\b \b|\b \bdone\r\n",
      "\u001b[?25h  Created wheel for fuzzy: filename=Fuzzy-1.2.2-cp37-cp37m-linux_x86_64.whl size=200827 sha256=b5d70de2932c64194eea7ef9a8fceecf2ea7bc62e08bd782859cad95b77fc5ca\r\n",
      "  Stored in directory: /root/.cache/pip/wheels/c8/52/8a/bb2d05fbf343752a8546682cb5b2d775cc0d1f27f6c43f95dd\r\n",
      "Successfully built fuzzy\r\n",
      "Installing collected packages: fuzzy\r\n",
      "Successfully installed fuzzy-1.2.2\r\n",
      "\u001b[33mWARNING: Running pip as the 'root' user can result in broken permissions and conflicting behaviour with the system package manager. It is recommended to use a virtual environment instead: https://pip.pypa.io/warnings/venv\u001b[0m\r\n"
     ]
    },
    {
     "data": {
      "text/plain": [
       "True"
      ]
     },
     "execution_count": 1,
     "metadata": {},
     "output_type": "execute_result"
    }
   ],
   "source": [
    "#installing the package in the container\n",
    "!pip install fuzzy\n",
    "# Importing Packages\n",
    "import fuzzy\n",
    "import pandas as pd\n",
    "import numpy as np\n",
    "import matplotlib.pyplot as plt\n",
    "\n",
    "# Exploring the output of fuzzy.nysiis\n",
    "fuzzy.nysiis\n",
    "# Testing equivalence of similar sounding words\n",
    "fuzzy.nysiis('Tufoule') == fuzzy.nysiis('Tufool')\n"
   ]
  },
  {
   "cell_type": "code",
   "execution_count": 2,
   "id": "a26466db",
   "metadata": {
    "execution": {
     "iopub.execute_input": "2022-04-01T12:57:34.018478Z",
     "iopub.status.busy": "2022-04-01T12:57:34.017491Z",
     "iopub.status.idle": "2022-04-01T12:57:34.056234Z",
     "shell.execute_reply": "2022-04-01T12:57:34.056830Z",
     "shell.execute_reply.started": "2022-04-01T12:56:11.112542Z"
    },
    "papermill": {
     "duration": 0.057795,
     "end_time": "2022-04-01T12:57:34.057004",
     "exception": false,
     "start_time": "2022-04-01T12:57:33.999209",
     "status": "completed"
    },
    "tags": []
   },
   "outputs": [
    {
     "data": {
      "text/html": [
       "<div>\n",
       "<style scoped>\n",
       "    .dataframe tbody tr th:only-of-type {\n",
       "        vertical-align: middle;\n",
       "    }\n",
       "\n",
       "    .dataframe tbody tr th {\n",
       "        vertical-align: top;\n",
       "    }\n",
       "\n",
       "    .dataframe thead th {\n",
       "        text-align: right;\n",
       "    }\n",
       "</style>\n",
       "<table border=\"1\" class=\"dataframe\">\n",
       "  <thead>\n",
       "    <tr style=\"text-align: right;\">\n",
       "      <th></th>\n",
       "      <th>Year</th>\n",
       "      <th>Book Title</th>\n",
       "      <th>Author</th>\n",
       "      <th>Besteller this year</th>\n",
       "      <th>first_name</th>\n",
       "    </tr>\n",
       "  </thead>\n",
       "  <tbody>\n",
       "    <tr>\n",
       "      <th>0</th>\n",
       "      <td>2017</td>\n",
       "      <td>DRAGONS LOVE TACOS</td>\n",
       "      <td>Adam Rubin</td>\n",
       "      <td>49</td>\n",
       "      <td>Adam</td>\n",
       "    </tr>\n",
       "    <tr>\n",
       "      <th>1</th>\n",
       "      <td>2017</td>\n",
       "      <td>THE WONDERFUL THINGS YOU WILL BE</td>\n",
       "      <td>Emily Winfield Martin</td>\n",
       "      <td>48</td>\n",
       "      <td>Emily</td>\n",
       "    </tr>\n",
       "    <tr>\n",
       "      <th>2</th>\n",
       "      <td>2017</td>\n",
       "      <td>THE DAY THE CRAYONS QUIT</td>\n",
       "      <td>Drew Daywalt</td>\n",
       "      <td>44</td>\n",
       "      <td>Drew</td>\n",
       "    </tr>\n",
       "    <tr>\n",
       "      <th>3</th>\n",
       "      <td>2017</td>\n",
       "      <td>ROSIE REVERE, ENGINEER</td>\n",
       "      <td>Andrea Beaty</td>\n",
       "      <td>38</td>\n",
       "      <td>Andrea</td>\n",
       "    </tr>\n",
       "    <tr>\n",
       "      <th>4</th>\n",
       "      <td>2017</td>\n",
       "      <td>ADA TWIST, SCIENTIST</td>\n",
       "      <td>Andrea Beaty</td>\n",
       "      <td>28</td>\n",
       "      <td>Andrea</td>\n",
       "    </tr>\n",
       "  </tbody>\n",
       "</table>\n",
       "</div>"
      ],
      "text/plain": [
       "   Year                        Book Title                 Author  \\\n",
       "0  2017                DRAGONS LOVE TACOS             Adam Rubin   \n",
       "1  2017  THE WONDERFUL THINGS YOU WILL BE  Emily Winfield Martin   \n",
       "2  2017          THE DAY THE CRAYONS QUIT           Drew Daywalt   \n",
       "3  2017            ROSIE REVERE, ENGINEER           Andrea Beaty   \n",
       "4  2017              ADA TWIST, SCIENTIST           Andrea Beaty   \n",
       "\n",
       "   Besteller this year first_name  \n",
       "0                   49       Adam  \n",
       "1                   48      Emily  \n",
       "2                   44       Drew  \n",
       "3                   38     Andrea  \n",
       "4                   28     Andrea  "
      ]
     },
     "execution_count": 2,
     "metadata": {},
     "output_type": "execute_result"
    }
   ],
   "source": [
    "# Reading in datasets/nytkids_yearly.csv, which is semicolon delimited.\n",
    "author_df = pd.read_csv('../input/gender-prediction-from-name-pronunciation/nytkids_yearly.csv', delimiter=';')\n",
    "\n",
    "# Looping through author_df['Author'] to extract the authors first names\n",
    "first_name = []\n",
    "for name in author_df['Author']:\n",
    "    first_name.append(name.split()[0])\n",
    "# Adding first_name as a column to author_df\n",
    "author_df ['first_name']= first_name\n",
    "# Checking out the first few rows of author_df\n",
    "author_df.head()"
   ]
  },
  {
   "cell_type": "code",
   "execution_count": 3,
   "id": "94302cfe",
   "metadata": {
    "execution": {
     "iopub.execute_input": "2022-04-01T12:57:34.098598Z",
     "iopub.status.busy": "2022-04-01T12:57:34.097592Z",
     "iopub.status.idle": "2022-04-01T12:57:34.108369Z",
     "shell.execute_reply": "2022-04-01T12:57:34.108934Z",
     "shell.execute_reply.started": "2022-04-01T12:56:11.156213Z"
    },
    "papermill": {
     "duration": 0.036048,
     "end_time": "2022-04-01T12:57:34.109101",
     "exception": false,
     "start_time": "2022-04-01T12:57:34.073053",
     "status": "completed"
    },
    "tags": []
   },
   "outputs": [
    {
     "name": "stdout",
     "output_type": "stream",
     "text": [
      "Difference is['Lemony'],['ADAN' 'AHNAT' 'AL' 'AN' 'ANDR' 'ANSLY' 'ANTAN' 'ANY' 'ARAN' 'B' 'BAL'\n",
      " 'BANJANAN' 'BANY' 'BARAC' 'BARAL' 'BARB' 'BARBAR' 'BARCALY' 'BATH'\n",
      " 'BATRAC' 'BRAD' 'BRAN' 'BRANDAN' 'CAB' 'CABAR' 'CACY' 'CAFAN' 'CALAST'\n",
      " 'CALS' 'CALY' 'CANBARLY' 'CANT' 'CARALAN' 'CARAN' 'CARL' 'CARLY' 'CARN'\n",
      " 'CARNAN' 'CARSAN' 'CAT' 'CATARAN' 'CATH' 'CATHY' 'CHR' 'CHRASTAFAR'\n",
      " 'CLANAD' 'CRAST' 'DABAR' 'DABY' 'DAN' 'DANAC' 'DARAN' 'DAVAD' 'DR' 'ED'\n",
      " 'EL' 'ELAS' 'EN' 'ENALY' 'ERAC' 'FALAP' 'FARAL' 'FARDANAD' 'GARY' 'GLAN'\n",
      " 'GRAG' 'GRAN' 'HALARY' 'HALY' 'HARNAN' 'HARV' 'IAN' 'ILASTRATAD' 'J'\n",
      " 'JACY' 'JADY' 'JAF' 'JAL' 'JALAN' 'JALY' 'JAN' 'JANAFAR' 'JANY' 'JARY'\n",
      " 'JAVAC' 'JYC' 'L' 'LABAN' 'LACY' 'LAN' 'LANANY' 'LANDSY' 'LAR' 'LARAN'\n",
      " 'LARY' 'LAS' 'M' 'MAC' 'MACAL' 'MALAL' 'MAN' 'MARAC' 'MARAN' 'MARC'\n",
      " 'MARGARAT' 'MARY' 'MAT' 'MATAW' 'MC' 'MY' 'NAC' 'NAL' 'NANCY' 'NARTAN'\n",
      " 'OLAVAR' 'PAP' 'PATAR' 'PATRAC' 'PYTAN' 'QAN' 'R' 'RAB' 'RABAD' 'RAF'\n",
      " 'RAN' 'RY' 'SAF' 'SAL' 'SAN' 'SANAN' 'SANDR' 'SAR' 'SARNAN' 'SASAN'\n",
      " 'SAVAN' 'STAF' 'TAD' 'TADAR' 'TAN' 'TANY' 'VAC' 'VACTAR' 'WALAN' 'WALTAR'\n",
      " 'YLV'].\n"
     ]
    }
   ],
   "source": [
    "# Looping through author's first names to create the nysiis (fuzzy) equivalent\n",
    "nysiis_name = []\n",
    "for first_name in author_df['first_name']:\n",
    "    tmp = fuzzy.nysiis(first_name)\n",
    "    nysiis_name.append(tmp.split()[0])\n",
    "    \n",
    "    # Adding first_name as a column to author_df\n",
    "author_df['first_name'] = first_name\n",
    "\n",
    "# Adding nysiis_name as a column to author_df\n",
    "author_df['nysiis_name'] = nysiis_name\n",
    "\n",
    "num_bananas_one = np.unique(author_df['first_name'])\n",
    "lst1 = list(num_bananas_one)\n",
    "num_bananas_one = np.asarray(lst1)\n",
    "\n",
    "num_bananas_two = np.unique(author_df['nysiis_name'])\n",
    "lst2 = list(num_bananas_two)\n",
    "num_bananas_two = np.asarray(lst2)\n",
    "\n",
    "\n",
    "# Printing out the difference between unique firstnames and unique nysiis_names:\n",
    "print(str(\"Difference is\" + str(num_bananas_one) + \",\" + str(num_bananas_two) + \".\"))"
   ]
  },
  {
   "cell_type": "code",
   "execution_count": 4,
   "id": "87687b77",
   "metadata": {
    "execution": {
     "iopub.execute_input": "2022-04-01T12:57:34.145314Z",
     "iopub.status.busy": "2022-04-01T12:57:34.144366Z",
     "iopub.status.idle": "2022-04-01T12:57:35.092704Z",
     "shell.execute_reply": "2022-04-01T12:57:35.092149Z",
     "shell.execute_reply.started": "2022-04-01T12:56:11.175029Z"
    },
    "papermill": {
     "duration": 0.967538,
     "end_time": "2022-04-01T12:57:35.092841",
     "exception": false,
     "start_time": "2022-04-01T12:57:34.125303",
     "status": "completed"
    },
    "tags": []
   },
   "outputs": [
    {
     "name": "stdout",
     "output_type": "stream",
     "text": [
      "  babynysiis  perc_female  perc_male gender\n",
      "0        NaN        62.50      37.50      F\n",
      "1        RAX        63.64      36.36      F\n",
      "2       ESAR        44.44      55.56      M\n",
      "3      DJANG         0.00     100.00      M\n",
      "4     PARCAL        25.00      75.00      M\n",
      "5    VALCARY       100.00       0.00      F\n",
      "6   FRANCASC        63.64      36.36      F\n",
      "7      CABAT        50.00      50.00      N\n",
      "8     XANDAR        16.67      83.33      M\n",
      "9     RACSAN        33.33      66.67      M\n"
     ]
    }
   ],
   "source": [
    "# Reading in datasets/babynames_nysiis.csv, which is semicolon delimited.\n",
    "babies_df = pd.read_csv('../input/gender-prediction-from-name-pronunciation/babynames_nysiis.csv', delimiter = ';')\n",
    "\n",
    "# Looping through babies_df to and filling up gender\n",
    "gender = []\n",
    "for idx, row in babies_df.iterrows():\n",
    "    if row[1] > row[2]:\n",
    "        gender.append('F')\n",
    "    elif row[1] < row[2]:\n",
    "        gender.append('M')\n",
    "    elif row[1] == row[2]:\n",
    "        gender.append('N')\n",
    "    else:\n",
    "        gender\n",
    "\n",
    "# Adding a gender column to babies_df\n",
    "babies_df['gender'] = pd.Series(gender)\n",
    "\n",
    "# Printing out the first few rows of babies_df\n",
    "print(babies_df.head(10))"
   ]
  },
  {
   "cell_type": "code",
   "execution_count": 5,
   "id": "11ce8860",
   "metadata": {
    "execution": {
     "iopub.execute_input": "2022-04-01T12:57:35.137058Z",
     "iopub.status.busy": "2022-04-01T12:57:35.136384Z",
     "iopub.status.idle": "2022-04-01T12:57:37.616145Z",
     "shell.execute_reply": "2022-04-01T12:57:37.616680Z",
     "shell.execute_reply.started": "2022-04-01T12:56:12.108805Z"
    },
    "papermill": {
     "duration": 2.506006,
     "end_time": "2022-04-01T12:57:37.616844",
     "exception": false,
     "start_time": "2022-04-01T12:57:35.110838",
     "status": "completed"
    },
    "tags": []
   },
   "outputs": [
    {
     "data": {
      "text/plain": [
       "F          395\n",
       "M          191\n",
       "Unknown      9\n",
       "N            8\n",
       "Name: author_gender, dtype: int64"
      ]
     },
     "execution_count": 5,
     "metadata": {},
     "output_type": "execute_result"
    }
   ],
   "source": [
    "# This function returns the location of an element in a_list.\n",
    "# Where an item does not exist, it returns -1.\n",
    "def locate_in_list(a_list, element):\n",
    "    loc_of_name = a_list.index(element) if element in a_list else -1\n",
    "    return(loc_of_name)\n",
    "\n",
    "# Looping through author_df['nysiis_name'] and appending the gender of each\n",
    "# author to author_gender.\n",
    "author_gender = []\n",
    "for idx in author_df['nysiis_name']:\n",
    "   index = locate_in_list(list(babies_df['babynysiis']),idx)\n",
    "   if(index==-1): \n",
    "       author_gender.append('Unknown')\n",
    "   else: \n",
    "       author_gender.append(list(babies_df['gender'])[index])\n",
    "\n",
    "# Adding author_gender to the author_df\n",
    "author_df['author_gender'] = author_gender \n",
    "\n",
    "# Counting the author's genders\n",
    "author_df['author_gender'].value_counts()"
   ]
  },
  {
   "cell_type": "code",
   "execution_count": 6,
   "id": "2ddde4fd",
   "metadata": {
    "execution": {
     "iopub.execute_input": "2022-04-01T12:57:37.660417Z",
     "iopub.status.busy": "2022-04-01T12:57:37.659680Z",
     "iopub.status.idle": "2022-04-01T12:57:37.687008Z",
     "shell.execute_reply": "2022-04-01T12:57:37.687820Z",
     "shell.execute_reply.started": "2022-04-01T12:56:14.563629Z"
    },
    "papermill": {
     "duration": 0.053911,
     "end_time": "2022-04-01T12:57:37.687999",
     "exception": false,
     "start_time": "2022-04-01T12:57:37.634088",
     "status": "completed"
    },
    "tags": []
   },
   "outputs": [
    {
     "name": "stdout",
     "output_type": "stream",
     "text": [
      "[8, 19, 27, 21, 21, 11, 21, 18, 25, 20]\n",
      "[15, 45, 48, 51, 46, 51, 34, 30, 32, 43]\n",
      "[1, 3, 0, 1, 0, 2, 1, 0, 0, 1]\n"
     ]
    }
   ],
   "source": [
    "# Creating a list of unique years, sorted in ascending order.\n",
    "years = np.unique(author_df['Year'])\n",
    "# Initializing lists\n",
    "males_by_yr = []\n",
    "females_by_yr = []\n",
    "unknown_by_yr = []\n",
    "\n",
    "# Looping through years to find the number of male, female and unknown authors per year\n",
    "for yy in years:   \n",
    "   males_by_yr.append(len( author_df[ (author_df['Year']==yy) & (author_df['author_gender']=='M')  ] ))\n",
    "   females_by_yr.append(len( author_df[ (author_df['Year']==yy) & (author_df['author_gender']=='F')  ] ))\n",
    "   unknown_by_yr.append(len( author_df[ (author_df['Year']==yy) & (author_df['author_gender']=='Unknown')  ] ))\n",
    "\n",
    "# Printing out yearly values to examine changes over time\n",
    "print(males_by_yr)\n",
    "print(females_by_yr)\n",
    "print(unknown_by_yr)"
   ]
  },
  {
   "cell_type": "code",
   "execution_count": 7,
   "id": "76119ad6",
   "metadata": {
    "execution": {
     "iopub.execute_input": "2022-04-01T12:57:37.730398Z",
     "iopub.status.busy": "2022-04-01T12:57:37.729379Z",
     "iopub.status.idle": "2022-04-01T12:57:37.988563Z",
     "shell.execute_reply": "2022-04-01T12:57:37.987760Z",
     "shell.execute_reply.started": "2022-04-01T12:56:14.600106Z"
    },
    "papermill": {
     "duration": 0.283052,
     "end_time": "2022-04-01T12:57:37.988722",
     "exception": false,
     "start_time": "2022-04-01T12:57:37.705670",
     "status": "completed"
    },
    "tags": []
   },
   "outputs": [
    {
     "data": {
      "text/plain": [
       "Text(0, 0.5, 'Count')"
      ]
     },
     "execution_count": 7,
     "metadata": {},
     "output_type": "execute_result"
    },
    {
     "data": {
      "image/png": "[encoded data removed]",
      "text/plain": [
       "<Figure size 432x288 with 1 Axes>"
      ]
     },
     "metadata": {
      "needs_background": "light"
     },
     "output_type": "display_data"
    }
   ],
   "source": [
    "# Plotting the bar chart\n",
    "plt.bar(years, unknown_by_yr)\n",
    "\n",
    "# [OPTIONAL] - Setting a title, and axes labels\n",
    "plt.title(\"Unknown by Year\")\n",
    "plt.xlabel(\"Years\")\n",
    "plt.ylabel(\"Count\")"
   ]
  },
  {
   "cell_type": "code",
   "execution_count": 8,
   "id": "8c46dca6",
   "metadata": {
    "execution": {
     "iopub.execute_input": "2022-04-01T12:57:38.170580Z",
     "iopub.status.busy": "2022-04-01T12:57:38.163844Z",
     "iopub.status.idle": "2022-04-01T12:57:38.383159Z",
     "shell.execute_reply": "2022-04-01T12:57:38.382520Z",
     "shell.execute_reply.started": "2022-04-01T12:56:14.857855Z"
    },
    "papermill": {
     "duration": 0.375276,
     "end_time": "2022-04-01T12:57:38.383320",
     "exception": false,
     "start_time": "2022-04-01T12:57:38.008044",
     "status": "completed"
    },
    "tags": []
   },
   "outputs": [
    {
     "name": "stdout",
     "output_type": "stream",
     "text": [
      "[2008.25 2009.25 2010.25 2011.25 2012.25 2013.25 2014.25 2015.25 2016.25\n",
      " 2017.25]\n"
     ]
    },
    {
     "data": {
      "text/plain": [
       "<BarContainer object of 10 artists>"
      ]
     },
     "execution_count": 8,
     "metadata": {},
     "output_type": "execute_result"
    },
    {
     "data": {
      "image/png": "[encoded data removed]",
      "text/plain": [
       "<Figure size 432x288 with 1 Axes>"
      ]
     },
     "metadata": {
      "needs_background": "light"
     },
     "output_type": "display_data"
    }
   ],
   "source": [
    "# Creating a new list, where 0.25 is added to each year\n",
    "years_shifted = years + 0.25\n",
    "print(years_shifted)\n",
    "# Plotting males_by_yr by year\n",
    "plt.bar(years, males_by_yr, color='lightblue', width=0.25)\n",
    "\n",
    "# Plotting females_by_yr by years_shifted\n",
    "plt.bar(years_shifted, females_by_yr, color='pink', width=0.25)"
   ]
  }
 ],
 "metadata": {
  "kernelspec": {
   "display_name": "Python 3",
   "language": "python",
   "name": "python3"
  },
  "language_info": {
   "codemirror_mode": {
    "name": "ipython",
    "version": 3
   },
   "file_extension": ".py",
   "mimetype": "text/x-python",
   "name": "python",
   "nbconvert_exporter": "python",
   "pygments_lexer": "ipython3",
   "version": "3.7.12"
  },
  "papermill": {
   "default_parameters": {},
   "duration": 35.655719,
   "end_time": "2022-04-01T12:57:39.013674",
   "environment_variables": {},
   "exception": null,
   "input_path": "__notebook__.ipynb",
   "output_path": "__notebook__.ipynb",
   "parameters": {},
   "start_time": "2022-04-01T12:57:03.357955",
   "version": "2.3.3"
  }
 },
 "nbformat": 4,
 "nbformat_minor": 5
}
